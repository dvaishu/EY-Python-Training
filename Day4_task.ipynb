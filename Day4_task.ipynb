{
 "cells": [
  {
   "cell_type": "code",
   "execution_count": 7,
   "metadata": {},
   "outputs": [
    {
     "name": "stdout",
     "output_type": "stream",
     "text": [
      "1. Null Vector with a 1 at the 5th position:\n",
      "[0. 0. 0. 0. 1. 0. 0. 0. 0. 0.]\n"
     ]
    }
   ],
   "source": [
    "import numpy as np\n",
    "\n",
    "# 1. Create a null vector of size 10 but the fifth value which is 1\n",
    "null_vector = np.zeros(10)\n",
    "null_vector[4] = 1\n",
    "print(\"1. Null Vector with a 1 at the 5th position:\")\n",
    "print(null_vector)\n",
    "\n"
   ]
  },
  {
   "cell_type": "code",
   "execution_count": 8,
   "metadata": {},
   "outputs": [
    {
     "name": "stdout",
     "output_type": "stream",
     "text": [
      "2. Vector with values ranging from 10 to 49:\n",
      "[10 11 12 13 14 15 16 17 18 19 20 21 22 23 24 25 26 27 28 29 30 31 32 33\n",
      " 34 35 36 37 38 39 40 41 42 43 44 45 46 47 48 49]\n"
     ]
    }
   ],
   "source": [
    "# 2. Create a vector with values ranging from 10 to 49\n",
    "vector = np.arange(10, 50)\n",
    "print(\"2. Vector with values ranging from 10 to 49:\")\n",
    "print(vector)"
   ]
  },
  {
   "cell_type": "code",
   "execution_count": 9,
   "metadata": {},
   "outputs": [
    {
     "name": "stdout",
     "output_type": "stream",
     "text": [
      "\n",
      "3. Reversed Vector:\n",
      "[49 48 47 46 45 44 43 42 41 40 39 38 37 36 35 34 33 32 31 30 29 28 27 26\n",
      " 25 24 23 22 21 20 19 18 17 16 15 14 13 12 11 10]\n"
     ]
    }
   ],
   "source": [
    "# 3. Reverse a vector\n",
    "r_vector = vector[::-1]\n",
    "print(\"\\n3. Reversed Vector:\")\n",
    "print(reversed_vector)"
   ]
  },
  {
   "cell_type": "code",
   "execution_count": 3,
   "metadata": {},
   "outputs": [],
   "source": [
    "# 4. Create a 3x3 matrix with values ranging from 0 to 8\n",
    "m = np.arange(9).reshape(3, 3)\n",
    "print(\"\\n4. 3x3 Matrix:\")\n",
    "print(m)"
   ]
  },
  {
   "cell_type": "code",
   "execution_count": 10,
   "metadata": {},
   "outputs": [
    {
     "name": "stdout",
     "output_type": "stream",
     "text": [
      "5. Indices of Non-Zero Elements:\n",
      "(array([0, 1, 4]),)\n"
     ]
    }
   ],
   "source": [
    "# 5. Find indices of non-zero elements from [1,2,0,0,4,0]\n",
    "array = np.array([1, 2, 0, 0, 4, 0])\n",
    "nonzero_indices = np.nonzero(array)\n",
    "print(\"5. Indices of Non-Zero Elements:\")\n",
    "print(nonzero_indices)"
   ]
  },
  {
   "cell_type": "code",
   "execution_count": 11,
   "metadata": {},
   "outputs": [
    {
     "name": "stdout",
     "output_type": "stream",
     "text": [
      "6. 3x3x3 Array with Random Values:\n",
      "[[[0.74991303 0.27246103 0.10784742]\n",
      "  [0.37439056 0.44814811 0.15140985]\n",
      "  [0.83400406 0.16845853 0.5394026 ]]\n",
      "\n",
      " [[0.20460806 0.50195018 0.82968713]\n",
      "  [0.2227453  0.18296423 0.71968291]\n",
      "  [0.85103487 0.09494913 0.64500563]]\n",
      "\n",
      " [[0.14681432 0.94907069 0.6771356 ]\n",
      "  [0.54843636 0.94150727 0.21921324]\n",
      "  [0.77930644 0.73127694 0.03981265]]]\n"
     ]
    }
   ],
   "source": [
    "# 6. Create a 3x3x3 array with random values\n",
    "r = np.random.rand(3, 3, 3)\n",
    "print(\"6. 3x3x3 Array with Random Values:\")\n",
    "print(r)"
   ]
  },
  {
   "cell_type": "code",
   "execution_count": 16,
   "metadata": {},
   "outputs": [
    {
     "name": "stdout",
     "output_type": "stream",
     "text": [
      "7. 10x10 Array with Random Values (Min and Max):\n",
      "Minimum Value: 4.7416245615994335e-05\n",
      "Maximum Value: 0.9961334913834794\n"
     ]
    }
   ],
   "source": [
    "# 7. Create a 10x10 array with random values and find the minimum and maximum values\n",
    "a_10x10 = np.random.rand(10, 10)\n",
    "min_v = np.min(a_10x10)\n",
    "max_v = np.max(a_10x10)\n",
    "print(\"7. 10x10 Array with Random Values (Min and Max):\")\n",
    "print(\"Minimum Value:\", min_v)\n",
    "print(\"Maximum Value:\",max_v)"
   ]
  },
  {
   "cell_type": "code",
   "execution_count": null,
   "metadata": {},
   "outputs": [],
   "source": [
    "# 8. Create a 2d array with 1 on the border and 0 inside\n",
    "a = np.ones((10, 10))\n",
    "border_array[1:-1, 1:-1] = 0\n",
    "print(\"\\n8. 2D Array with 1 on the Border and 0 Inside:\")\n",
    "print(border_array)"
   ]
  }
 ],
 "metadata": {
  "kernelspec": {
   "display_name": "Python 3",
   "language": "python",
   "name": "python3"
  },
  "language_info": {
   "codemirror_mode": {
    "name": "ipython",
    "version": 3
   },
   "file_extension": ".py",
   "mimetype": "text/x-python",
   "name": "python",
   "nbconvert_exporter": "python",
   "pygments_lexer": "ipython3",
   "version": "3.7.6"
  }
 },
 "nbformat": 4,
 "nbformat_minor": 4
}
